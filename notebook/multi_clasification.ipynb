{
 "cells": [
  {
   "cell_type": "code",
   "execution_count": 20,
   "metadata": {},
   "outputs": [],
   "source": [
    "from tensorflow.keras import layers, models, regularizers\n",
    "from tensorflow.keras.datasets import reuters"
   ]
  },
  {
   "cell_type": "code",
   "execution_count": 2,
   "metadata": {},
   "outputs": [
    {
     "name": "stderr",
     "output_type": "stream",
     "text": [
      "/home/santi/anaconda3/envs/neuronal_networks_examples/lib/python3.9/site-packages/tensorflow/python/keras/datasets/reuters.py:148: VisibleDeprecationWarning: Creating an ndarray from ragged nested sequences (which is a list-or-tuple of lists-or-tuples-or ndarrays with different lengths or shapes) is deprecated. If you meant to do this, you must specify 'dtype=object' when creating the ndarray.\n",
      "  x_train, y_train = np.array(xs[:idx]), np.array(labels[:idx])\n",
      "/home/santi/anaconda3/envs/neuronal_networks_examples/lib/python3.9/site-packages/tensorflow/python/keras/datasets/reuters.py:149: VisibleDeprecationWarning: Creating an ndarray from ragged nested sequences (which is a list-or-tuple of lists-or-tuples-or ndarrays with different lengths or shapes) is deprecated. If you meant to do this, you must specify 'dtype=object' when creating the ndarray.\n",
      "  x_test, y_test = np.array(xs[idx:]), np.array(labels[idx:])\n"
     ]
    }
   ],
   "source": [
    "(train_data, train_labels),(test_data, test_labels) = reuters.load_data(num_words=10000)"
   ]
  },
  {
   "cell_type": "markdown",
   "metadata": {},
   "source": [
    "### Diccionario de palabras"
   ]
  },
  {
   "cell_type": "code",
   "execution_count": 3,
   "metadata": {},
   "outputs": [],
   "source": [
    "labels_dic =['cocoa','grain','veg-oil','earn','acq','wheat','copper','housing','money-supply',\n",
    "'coffee','sugar','trade','reserves','ship','cotton','carcass','crude','nat-gas',\n",
    "'cpi','money-fx','interest','gnp','meal-feed','alum','oilseed','gold','tin',\n",
    "'strategic-metal','livestock','retail','ipi','iron-steel','rubber','heat','jobs',\n",
    "'lei','bop','zinc','orange','pet-chem','dlr','gas','silver','wpi','hog','lead']"
   ]
  },
  {
   "cell_type": "code",
   "execution_count": 4,
   "metadata": {},
   "outputs": [],
   "source": [
    "words = reuters.get_word_index()\n",
    "words_dict = dict([(value,key) for (key,value) in words.items()])"
   ]
  },
  {
   "cell_type": "code",
   "execution_count": 5,
   "metadata": {},
   "outputs": [],
   "source": [
    "def translater(data):\n",
    "  text = \"\"\n",
    "  for _ in data:\n",
    "    text = text + str(words_dict.get(_ - 3)) + \" \"\n",
    "  return text"
   ]
  },
  {
   "cell_type": "code",
   "execution_count": 6,
   "metadata": {},
   "outputs": [
    {
     "name": "stdout",
     "output_type": "stream",
     "text": [
      "None None None said as a result of its december acquisition of space co it expects earnings per share in 1987 of 1 15 to 1 30 dlrs per share up from 70 cts in 1986 the company said pretax net should rise to nine to 10 mln dlrs from six mln dlrs in 1986 and rental operation revenues to 19 to 22 mln dlrs from 12 5 mln dlrs it said cash flow per share this year should be 2 50 to three dlrs reuter 3 \n",
      "3\n"
     ]
    }
   ],
   "source": [
    "print(translater(train_data[0]))\n",
    "print(train_labels[0])"
   ]
  },
  {
   "cell_type": "code",
   "execution_count": 7,
   "metadata": {},
   "outputs": [
    {
     "data": {
      "text/plain": [
       "(8982,)"
      ]
     },
     "execution_count": 7,
     "metadata": {},
     "output_type": "execute_result"
    }
   ],
   "source": [
    "#train_data no es un tensor, por eso necesitamos vectorizar \n",
    "train_data.shape"
   ]
  },
  {
   "cell_type": "code",
   "execution_count": 8,
   "metadata": {},
   "outputs": [],
   "source": [
    "import numpy as np"
   ]
  },
  {
   "cell_type": "code",
   "execution_count": 9,
   "metadata": {},
   "outputs": [],
   "source": [
    "def vectorizar(sequences, dim=10000):\n",
    "  results = np.zeros((len(sequences), dim))\n",
    "  for index, sequences in enumerate(sequences):\n",
    "    results[index,sequences]=1\n",
    "  return results"
   ]
  },
  {
   "cell_type": "code",
   "execution_count": 10,
   "metadata": {},
   "outputs": [
    {
     "name": "stdout",
     "output_type": "stream",
     "text": [
      "(8982, 10000)\n",
      "[0. 1. 1. ... 0. 0. 0.]\n"
     ]
    }
   ],
   "source": [
    "x_train = vectorizar(train_data)\n",
    "x_test = vectorizar(test_data)\n",
    "print(x_train.shape)\n",
    "print(x_train[0])"
   ]
  },
  {
   "cell_type": "code",
   "execution_count": 11,
   "metadata": {},
   "outputs": [],
   "source": [
    "from tensorflow.keras.utils import to_categorical"
   ]
  },
  {
   "cell_type": "code",
   "execution_count": 12,
   "metadata": {},
   "outputs": [
    {
     "name": "stdout",
     "output_type": "stream",
     "text": [
      "(8982, 46)\n",
      "[[0. 0. 0. ... 0. 0. 0.]\n",
      " [0. 0. 0. ... 0. 0. 0.]\n",
      " [0. 0. 0. ... 0. 0. 0.]\n",
      " ...\n",
      " [0. 0. 0. ... 0. 0. 0.]\n",
      " [0. 0. 0. ... 0. 0. 0.]\n",
      " [0. 0. 0. ... 0. 0. 0.]]\n"
     ]
    }
   ],
   "source": [
    "y_train = to_categorical(train_labels)\n",
    "y_test = to_categorical(test_labels)\n",
    "\n",
    "print(y_train.shape)\n",
    "print(y_train)"
   ]
  },
  {
   "cell_type": "markdown",
   "metadata": {},
   "source": [
    "### Creando la red"
   ]
  },
  {
   "cell_type": "code",
   "execution_count": 23,
   "metadata": {},
   "outputs": [],
   "source": [
    "model = models.Sequential()\n",
    "model.add(layers.Dense(64, activation='relu', input_shape=(10000,), kernel_regularizer=regularizers.l2(0.01)))\n",
    "model.add(layers.Dropout(0.6))\n",
    "model.add(layers.Dense(64, activation='relu', kernel_regularizer=regularizers.l2(0.01)))\n",
    "model.add(layers.Dropout(0.5))\n",
    "model.add(layers.Dense(46, activation='softmax'))"
   ]
  },
  {
   "cell_type": "code",
   "execution_count": 24,
   "metadata": {},
   "outputs": [],
   "source": [
    "model.compile(optimizer='rmsprop',\n",
    "              loss='categorical_crossentropy',\n",
    "              metrics=['acc']   \n",
    "             )"
   ]
  },
  {
   "cell_type": "code",
   "execution_count": 15,
   "metadata": {},
   "outputs": [],
   "source": [
    "x_val = x_train[:1000]\n",
    "partial_x_train = x_train[1000:]\n",
    "\n",
    "y_val = y_train[:1000]\n",
    "partial_y_train =  y_train[1000:]"
   ]
  },
  {
   "cell_type": "code",
   "execution_count": 25,
   "metadata": {},
   "outputs": [
    {
     "name": "stdout",
     "output_type": "stream",
     "text": [
      "Epoch 1/14\n",
      "32/32 [==============================] - 3s 71ms/step - loss: 4.3868 - acc: 0.2572 - val_loss: 2.4715 - val_acc: 0.5550\n",
      "Epoch 2/14\n",
      "32/32 [==============================] - 1s 47ms/step - loss: 2.6166 - acc: 0.5328 - val_loss: 2.1182 - val_acc: 0.6200\n",
      "Epoch 3/14\n",
      "32/32 [==============================] - 2s 47ms/step - loss: 2.2689 - acc: 0.5765 - val_loss: 1.9294 - val_acc: 0.6660\n",
      "Epoch 4/14\n",
      "32/32 [==============================] - 1s 44ms/step - loss: 2.0644 - acc: 0.6129 - val_loss: 1.8328 - val_acc: 0.6670\n",
      "Epoch 5/14\n",
      "32/32 [==============================] - 1s 45ms/step - loss: 1.9136 - acc: 0.6378 - val_loss: 1.7383 - val_acc: 0.6820\n",
      "Epoch 6/14\n",
      "32/32 [==============================] - 2s 66ms/step - loss: 1.8196 - acc: 0.6522 - val_loss: 1.6669 - val_acc: 0.6920\n",
      "Epoch 7/14\n",
      "32/32 [==============================] - 2s 50ms/step - loss: 1.7780 - acc: 0.6650 - val_loss: 1.6256 - val_acc: 0.6950\n",
      "Epoch 8/14\n",
      "32/32 [==============================] - 2s 57ms/step - loss: 1.7191 - acc: 0.6739 - val_loss: 1.5910 - val_acc: 0.7040\n",
      "Epoch 9/14\n",
      "32/32 [==============================] - 2s 67ms/step - loss: 1.6607 - acc: 0.6790 - val_loss: 1.5574 - val_acc: 0.7070\n",
      "Epoch 10/14\n",
      "32/32 [==============================] - 2s 49ms/step - loss: 1.6678 - acc: 0.6795 - val_loss: 1.5448 - val_acc: 0.7070\n",
      "Epoch 11/14\n",
      "32/32 [==============================] - 1s 44ms/step - loss: 1.6406 - acc: 0.6759 - val_loss: 1.5210 - val_acc: 0.7060\n",
      "Epoch 12/14\n",
      "32/32 [==============================] - 2s 48ms/step - loss: 1.5736 - acc: 0.6988 - val_loss: 1.4962 - val_acc: 0.7080\n",
      "Epoch 13/14\n",
      "32/32 [==============================] - 2s 50ms/step - loss: 1.5663 - acc: 0.6991 - val_loss: 1.4905 - val_acc: 0.7080\n",
      "Epoch 14/14\n",
      "32/32 [==============================] - 2s 50ms/step - loss: 1.5198 - acc: 0.6985 - val_loss: 1.4701 - val_acc: 0.7140\n"
     ]
    }
   ],
   "source": [
    "\n",
    "history = model.fit(partial_x_train,\n",
    "                   partial_y_train,\n",
    "                   epochs=14,\n",
    "                   batch_size=256,\n",
    "                   validation_data=(x_val,y_val))"
   ]
  },
  {
   "cell_type": "markdown",
   "metadata": {},
   "source": [
    "### Validamos resultados"
   ]
  },
  {
   "cell_type": "code",
   "execution_count": 26,
   "metadata": {},
   "outputs": [
    {
     "data": {
      "image/png": "[encoded data removed]",
      "text/plain": [
       "<Figure size 720x720 with 1 Axes>"
      ]
     },
     "metadata": {
      "needs_background": "light"
     },
     "output_type": "display_data"
    }
   ],
   "source": [
    "import matplotlib.pyplot as plt \n",
    "\n",
    "\n",
    "#validación de perdida para valores de entrenamiento y de validación\n",
    "history_dict = history.history\n",
    "loss_values = history_dict['loss']\n",
    "val_loss_values = history_dict['val_loss']\n",
    "\n",
    "fig = plt.figure(figsize=(10,10))\n",
    "epoch = range(1,len(loss_values)+1)\n",
    "plt.plot(epoch,loss_values, 'o',label='training')\n",
    "plt.plot(epoch,val_loss_values, '--',label='val')\n",
    "plt.legend()\n",
    "plt.show()"
   ]
  },
  {
   "cell_type": "markdown",
   "metadata": {},
   "source": [
    "### realizar predución"
   ]
  },
  {
   "cell_type": "code",
   "execution_count": 27,
   "metadata": {},
   "outputs": [],
   "source": [
    "\n",
    "#todas las prediciones de los datos de test\n",
    "# predictions = model.predict(x_test[0])\n",
    "\n",
    "#solo el primer dato de test\n",
    "predictions = model.predict(np.array([x_test[0]]))\n"
   ]
  },
  {
   "cell_type": "code",
   "execution_count": 28,
   "metadata": {},
   "outputs": [
    {
     "name": "stdout",
     "output_type": "stream",
     "text": [
      "la predicion es: earn\n",
      "el valor correcto es: earn\n"
     ]
    }
   ],
   "source": [
    "#validamos que hizo una predicción correcta\n",
    "\n",
    "print(\"la predicion es: \" + labels_dic[np.argmax(predictions[0])])\n",
    "print(\"el valor correcto es: \"+ labels_dic[test_labels[0]])"
   ]
  }
 ],
 "metadata": {
  "kernelspec": {
   "display_name": "Python 3.9.12 ('neuronal_networks_examples')",
   "language": "python",
   "name": "python3"
  },
  "language_info": {
   "codemirror_mode": {
    "name": "ipython",
    "version": 3
   },
   "file_extension": ".py",
   "mimetype": "text/x-python",
   "name": "python",
   "nbconvert_exporter": "python",
   "pygments_lexer": "ipython3",
   "version": "3.9.12"
  },
  "orig_nbformat": 4,
  "vscode": {
   "interpreter": {
    "hash": "b92117b4686be0aadc43ef8d8238a3f3cc0c8166fe63978a0d530c57892c8176"
   }
  }
 },
 "nbformat": 4,
 "nbformat_minor": 2
}
