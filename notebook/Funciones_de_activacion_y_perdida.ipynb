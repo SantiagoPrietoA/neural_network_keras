{
  "cells": [
    {
      "cell_type": "code",
      "execution_count": 1,
      "metadata": {
        "id": "K6_wqe02jLye"
      },
      "outputs": [],
      "source": [
        "import numpy as np\n",
        "import matplotlib.pyplot as plt"
      ]
    },
    {
      "cell_type": "markdown",
      "metadata": {
        "id": "xpmDFLHtj08m"
      },
      "source": [
        "## Funciones de activación"
      ]
    },
    {
      "cell_type": "code",
      "execution_count": 9,
      "metadata": {
        "id": "HxjRMw2ijLyp"
      },
      "outputs": [],
      "source": [
        "def sigmoid(a, derivate = False):\n",
        "    if derivate:\n",
        "        return np.exp(-a)/(( np.exp(-a) +1)**2)\n",
        "    else:    \n",
        "        return 1 / (1 + np.exp(-a))\n",
        "\n",
        "def steep(x, derivate = False):    \n",
        "    return np.piecewise(x,[x<0.0,x>=0.0],[0,1])\n",
        "\n",
        "\n",
        "def relu(x):\n",
        "  return np.piecewise(x, [x < 0, x > 0], [0, lambda x: x])"
      ]
    },
    {
      "cell_type": "code",
      "execution_count": 3,
      "metadata": {
        "id": "Etj97bCCjLyq"
      },
      "outputs": [],
      "source": [
        "x = np.linspace(10,-10,100)"
      ]
    },
    {
      "cell_type": "code",
      "execution_count": 4,
      "metadata": {
        "id": "rG89lw9rjLyu",
        "outputId": "5dfff496-fb4a-4b5c-d3da-9ed16e38acdc"
      },
      "outputs": [
        {
          "data": {
            "text/plain": [
              "[<matplotlib.lines.Line2D at 0x7f63d1fdef40>]"
            ]
          },
          "execution_count": 4,
          "metadata": {},
          "output_type": "execute_result"
        },
        {
          "data": {
            "image/png": "[encoded data removed]",
            "text/plain": [
              "<Figure size 432x288 with 1 Axes>"
            ]
          },
          "metadata": {
            "needs_background": "light"
          },
          "output_type": "display_data"
        }
      ],
      "source": [
        "plt.plot(x,sigmoid(x))"
      ]
    },
    {
      "cell_type": "code",
      "execution_count": 5,
      "metadata": {
        "id": "heG4tatkjLy0",
        "outputId": "e3aa206d-ce47-4427-c9d8-ea6df5fd3877"
      },
      "outputs": [
        {
          "data": {
            "text/plain": [
              "[<matplotlib.lines.Line2D at 0x7f63d178bee0>]"
            ]
          },
          "execution_count": 5,
          "metadata": {},
          "output_type": "execute_result"
        },
        {
          "data": {
            "image/png": "[encoded data removed]",
            "text/plain": [
              "<Figure size 432x288 with 1 Axes>"
            ]
          },
          "metadata": {
            "needs_background": "light"
          },
          "output_type": "display_data"
        }
      ],
      "source": [
        "plt.plot(x,steep(x))"
      ]
    },
    {
      "cell_type": "code",
      "execution_count": 10,
      "metadata": {},
      "outputs": [
        {
          "data": {
            "text/plain": [
              "[<matplotlib.lines.Line2D at 0x7f63d0081100>]"
            ]
          },
          "execution_count": 10,
          "metadata": {},
          "output_type": "execute_result"
        },
        {
          "data": {
            "image/png": "[encoded data removed]",
            "text/plain": [
              "<Figure size 432x288 with 1 Axes>"
            ]
          },
          "metadata": {
            "needs_background": "light"
          },
          "output_type": "display_data"
        }
      ],
      "source": [
        "plt.plot(x,relu(x))"
      ]
    },
    {
      "cell_type": "markdown",
      "metadata": {
        "id": "5NmxYUWykDLM"
      },
      "source": [
        "## Función de pérdida o coste"
      ]
    },
    {
      "cell_type": "code",
      "execution_count": 11,
      "metadata": {
        "id": "zGms-U8njLy1"
      },
      "outputs": [],
      "source": [
        "def mse(y,y_hat,derivate=False):\n",
        "    if derivate:\n",
        "        return (y_hat - y)\n",
        "    else:            \n",
        "        return np.mean((y_hat - y)**2)\n",
        "    "
      ]
    },
    {
      "cell_type": "code",
      "execution_count": 16,
      "metadata": {
        "id": "jw47TySVjLy2"
      },
      "outputs": [],
      "source": [
        "prediction = np.array([0.9,0.5,0.3,0.0])\n",
        "real =  np.array([0,0,1,1])"
      ]
    },
    {
      "cell_type": "code",
      "execution_count": 17,
      "metadata": {
        "id": "RSa-ImU9jLy2",
        "outputId": "4a852a3c-c2f7-4b03-9b76-42f89ba108c5"
      },
      "outputs": [
        {
          "data": {
            "text/plain": [
              "0.6375"
            ]
          },
          "execution_count": 17,
          "metadata": {},
          "output_type": "execute_result"
        }
      ],
      "source": [
        "mse(real, prediction)"
      ]
    }
  ],
  "metadata": {
    "colab": {
      "name": "Funciones de activacion y perdida.ipynb",
      "provenance": []
    },
    "kernelspec": {
      "display_name": "Python 3.9.12 ('neuronal_networks_examples')",
      "language": "python",
      "name": "python3"
    },
    "language_info": {
      "codemirror_mode": {
        "name": "ipython",
        "version": 3
      },
      "file_extension": ".py",
      "mimetype": "text/x-python",
      "name": "python",
      "nbconvert_exporter": "python",
      "pygments_lexer": "ipython3",
      "version": "3.9.12"
    },
    "vscode": {
      "interpreter": {
        "hash": "b92117b4686be0aadc43ef8d8238a3f3cc0c8166fe63978a0d530c57892c8176"
      }
    }
  },
  "nbformat": 4,
  "nbformat_minor": 0
}
