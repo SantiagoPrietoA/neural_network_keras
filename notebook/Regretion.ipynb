{
 "cells": [
  {
   "cell_type": "code",
   "execution_count": 1,
   "metadata": {},
   "outputs": [],
   "source": [
    "import pandas as pd\n",
    "import numpy as np\n",
    "from keras.datasets import boston_housing \n",
    "from keras import models, layers, optimizers"
   ]
  },
  {
   "cell_type": "code",
   "execution_count": 2,
   "metadata": {},
   "outputs": [
    {
     "name": "stdout",
     "output_type": "stream",
     "text": [
      "Downloading data from https://storage.googleapis.com/tensorflow/tf-keras-datasets/boston_housing.npz\n",
      "57344/57026 [==============================] - 0s 1us/step\n"
     ]
    }
   ],
   "source": [
    "(train_data , train_targets) ,(test_data,test_targets) = boston_housing.load_data()"
   ]
  },
  {
   "cell_type": "code",
   "execution_count": 5,
   "metadata": {},
   "outputs": [
    {
     "data": {
      "text/plain": [
       "(404, 13)"
      ]
     },
     "execution_count": 5,
     "metadata": {},
     "output_type": "execute_result"
    }
   ],
   "source": [
    "train_data.shape"
   ]
  },
  {
   "cell_type": "code",
   "execution_count": 3,
   "metadata": {},
   "outputs": [
    {
     "data": {
      "text/plain": [
       "array([2.1770e-02, 8.2500e+01, 2.0300e+00, 0.0000e+00, 4.1500e-01,\n",
       "       7.6100e+00, 1.5700e+01, 6.2700e+00, 2.0000e+00, 3.4800e+02,\n",
       "       1.4700e+01, 3.9538e+02, 3.1100e+00])"
      ]
     },
     "execution_count": 3,
     "metadata": {},
     "output_type": "execute_result"
    }
   ],
   "source": [
    "train_data[1]"
   ]
  },
  {
   "cell_type": "code",
   "execution_count": 4,
   "metadata": {},
   "outputs": [
    {
     "data": {
      "text/plain": [
       "42.3"
      ]
     },
     "execution_count": 4,
     "metadata": {},
     "output_type": "execute_result"
    }
   ],
   "source": [
    "#valor en miles de dolares para la casa\n",
    "train_targets[1]"
   ]
  },
  {
   "cell_type": "markdown",
   "metadata": {},
   "source": [
    "los datos tienen un rango muy amplio entre ellos, por ende es necesario normalizarlos"
   ]
  },
  {
   "cell_type": "code",
   "execution_count": 6,
   "metadata": {},
   "outputs": [
    {
     "name": "stdout",
     "output_type": "stream",
     "text": [
      "[-0.27224633 -0.48361547 -0.43576161 -0.25683275 -0.1652266  -0.1764426\n",
      "  0.81306188  0.1166983  -0.62624905 -0.59517003  1.14850044  0.44807713\n",
      "  0.8252202 ]\n",
      "[ 1.55369355 -0.48361547  1.0283258  -0.25683275  1.03838067  0.23545815\n",
      "  1.11048828 -0.93976936  1.67588577  1.5652875   0.78447637 -3.48459553\n",
      "  2.25092074]\n"
     ]
    }
   ],
   "source": [
    "#restamos la media y dividimos por la desviación, ahora todos los datos están entre 0 y 1\n",
    "mean = train_data.mean(axis=0)\n",
    "train_data = train_data  - mean\n",
    "std = train_data.std(axis=0)\n",
    "train_data = train_data / std\n",
    "\n",
    "\n",
    "#por etica hacemos el proceso de los datos de prueba con los valores de los datos de entrenamiento\n",
    "#se evidencia que estos valores si superan los rangos de 0 y 1 \n",
    "test_data = test_data - mean\n",
    "test_data = test_data / std\n",
    "\n",
    "print(train_data[0])\n",
    "print(test_data[0])"
   ]
  },
  {
   "cell_type": "markdown",
   "metadata": {},
   "source": [
    "###Definiendo nuestra red"
   ]
  },
  {
   "cell_type": "code",
   "execution_count": 7,
   "metadata": {},
   "outputs": [],
   "source": [
    "def build_model_regression(input_data):\n",
    "    model = models.Sequential()\n",
    "    model.add(layers.Dense(64,activation='relu',input_shape=(input_data,)))\n",
    "    model.add(layers.Dense(64,activation='relu'))\n",
    "    model.add(layers.Dense(1))\n",
    "    model.compile(optimizer='rmsprop', loss='mse',metrics=['mae'])\n",
    "    return model"
   ]
  },
  {
   "cell_type": "markdown",
   "metadata": {},
   "source": [
    "###K - fold validation\n",
    "\n",
    "este metodo es mas para evaluar como es el desempeño respecto a la data de validación y cuantas epocas deberia iterar y con que parametros… una vez se analize la grafica y se vea los resultados se puede entrenar un modelo de cero con los parametros que consegui… todo esto sin necesidad de usar el kfold validation."
   ]
  },
  {
   "cell_type": "code",
   "execution_count": 27,
   "metadata": {},
   "outputs": [],
   "source": [
    "k = 4\n",
    "num_val_samples = len(train_data) // 4\n",
    "num_epoch = 55\n",
    "all_history = []"
   ]
  },
  {
   "cell_type": "code",
   "execution_count": 28,
   "metadata": {},
   "outputs": [
    {
     "name": "stdout",
     "output_type": "stream",
     "text": [
      "Fold  0\n",
      "intervalo de datos de prueba:  0   101\n",
      "Fold  1\n",
      "intervalo de datos de prueba:  101   202\n",
      "Fold  2\n",
      "intervalo de datos de prueba:  202   303\n",
      "Fold  3\n",
      "intervalo de datos de prueba:  303   404\n"
     ]
    }
   ],
   "source": [
    "for i in range(k):\n",
    "    print(\"Fold \", i)\n",
    "    print(\"intervalo de datos de prueba: \", i *\n",
    "          num_val_samples, \" \", (i+1) * num_val_samples)\n",
    "    val_data = train_data[i*num_val_samples: (i+1) * num_val_samples]\n",
    "    val_targets = train_targets[i*num_val_samples: (i+1) * num_val_samples]\n",
    "\n",
    "    partial_train_data = np.concatenate(\n",
    "        [train_data[:i * num_val_samples],\n",
    "         train_data[(i+1) * num_val_samples:]],\n",
    "        axis=0\n",
    "    )\n",
    "\n",
    "    partial_train_targets = np.concatenate(\n",
    "        [train_targets[:i * num_val_samples],\n",
    "         train_targets[(i+1) * num_val_samples:]],\n",
    "        axis=0\n",
    "    )\n",
    "    model = build_model_regression(13)\n",
    "    history = model.fit(partial_train_data, partial_train_targets, epochs=num_epoch, batch_size = 16,\n",
    "                        validation_data = (val_data, val_targets),\n",
    "                        verbose=0)\n",
    "    all_history.append(history.history['val_mae'])\n"
   ]
  },
  {
   "cell_type": "markdown",
   "metadata": {},
   "source": [
    "### Visualizando resultados"
   ]
  },
  {
   "cell_type": "code",
   "execution_count": 29,
   "metadata": {},
   "outputs": [],
   "source": [
    "all_mae_avg = pd.DataFrame(all_history).mean(axis=0)"
   ]
  },
  {
   "cell_type": "code",
   "execution_count": 30,
   "metadata": {},
   "outputs": [
    {
     "data": {
      "text/plain": [
       "0     19.173742\n",
       "1     15.700365\n",
       "2     11.434373\n",
       "3      7.713797\n",
       "4      5.800169\n",
       "5      4.891695\n",
       "6      4.273491\n",
       "7      3.901688\n",
       "8      3.612010\n",
       "9      3.454427\n",
       "10     3.272416\n",
       "11     3.183590\n",
       "12     3.065685\n",
       "13     2.981493\n",
       "14     2.886243\n",
       "15     2.843915\n",
       "16     2.774559\n",
       "17     2.756212\n",
       "18     2.696981\n",
       "19     2.722025\n",
       "20     2.683504\n",
       "21     2.669873\n",
       "22     2.599389\n",
       "23     2.589849\n",
       "24     2.596092\n",
       "25     2.599670\n",
       "26     2.553604\n",
       "27     2.533006\n",
       "28     2.507801\n",
       "29     2.491032\n",
       "30     2.488728\n",
       "31     2.487847\n",
       "32     2.464665\n",
       "33     2.487983\n",
       "34     2.457501\n",
       "35     2.453985\n",
       "36     2.460388\n",
       "37     2.444064\n",
       "38     2.448657\n",
       "39     2.426959\n",
       "40     2.429791\n",
       "41     2.415453\n",
       "42     2.442587\n",
       "43     2.409780\n",
       "44     2.403040\n",
       "45     2.425488\n",
       "46     2.359211\n",
       "47     2.418271\n",
       "48     2.399694\n",
       "49     2.364393\n",
       "50     2.391401\n",
       "51     2.397505\n",
       "52     2.383773\n",
       "53     2.353645\n",
       "54     2.349561\n",
       "dtype: float64"
      ]
     },
     "execution_count": 30,
     "metadata": {},
     "output_type": "execute_result"
    }
   ],
   "source": [
    "all_mae_avg"
   ]
  },
  {
   "cell_type": "code",
   "execution_count": 31,
   "metadata": {},
   "outputs": [
    {
     "data": {
      "image/png": "[encoded data removed]",
      "text/plain": [
       "<Figure size 720x720 with 1 Axes>"
      ]
     },
     "metadata": {
      "needs_background": "light"
     },
     "output_type": "display_data"
    }
   ],
   "source": [
    "import matplotlib.pyplot as plt\n",
    "\n",
    "fig = plt.figure(figsize=(10,10))\n",
    "plt.plot(range(1,len(all_mae_avg[15:])+1), all_mae_avg[15:])\n",
    "plt.show()"
   ]
  },
  {
   "cell_type": "code",
   "execution_count": 32,
   "metadata": {},
   "outputs": [
    {
     "name": "stdout",
     "output_type": "stream",
     "text": [
      "4/4 [==============================] - 0s 19ms/step - loss: 23.8179 - mae: 2.9117\n"
     ]
    },
    {
     "data": {
      "text/plain": [
       "[23.817914962768555, 2.911724090576172]"
      ]
     },
     "execution_count": 32,
     "metadata": {},
     "output_type": "execute_result"
    }
   ],
   "source": [
    "#tenemos un error de aprox 3 mil dolares\n",
    "model.evaluate(test_data, test_targets)"
   ]
  },
  {
   "cell_type": "code",
   "execution_count": 37,
   "metadata": {},
   "outputs": [
    {
     "name": "stdout",
     "output_type": "stream",
     "text": [
      "[[21.107323]]\n",
      "19.0\n"
     ]
    }
   ],
   "source": [
    "#la prediccion tiene un error de 2 mil dolares\n",
    "prediction = model.predict(np.array([test_data[2]]))\n",
    "print(prediction)\n",
    "print(test_targets[2])"
   ]
  }
 ],
 "metadata": {
  "kernelspec": {
   "display_name": "Python 3.9.12 ('neuronal_networks_examples')",
   "language": "python",
   "name": "python3"
  },
  "language_info": {
   "codemirror_mode": {
    "name": "ipython",
    "version": 3
   },
   "file_extension": ".py",
   "mimetype": "text/x-python",
   "name": "python",
   "nbconvert_exporter": "python",
   "pygments_lexer": "ipython3",
   "version": "3.9.12"
  },
  "orig_nbformat": 4,
  "vscode": {
   "interpreter": {
    "hash": "b92117b4686be0aadc43ef8d8238a3f3cc0c8166fe63978a0d530c57892c8176"
   }
  }
 },
 "nbformat": 4,
 "nbformat_minor": 2
}
